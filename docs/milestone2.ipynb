{
 "cells": [
  {
   "cell_type": "markdown",
   "metadata": {},
   "source": [
    "# Milestone 2\n",
    "\n",
    "## Introduction\n",
    "Differentiation is used in many applications, such as finding stationary points of defined functions or minimizing objective loss functions in machine learning applications. \n",
    "But differentiating an arbitrary function &#8477;<sup>n</sup> &#8594; &#8477;<sup>m</sup> is generally not an easy task. \n",
    "When the function can be expressed as a composition of differentiable elementary functions (which in most cases is true), Automatic Differentiation (AD) can help. \n",
    "AD has become one of the most popular techniques for finding derivatives and is often preferred over symbolic differentation and numerical differentiation because of its efficiency and stability."
   ]
  },
  {
   "cell_type": "markdown",
   "metadata": {},
   "source": [
    " \n",
    "## Background\n",
    "\n",
    "How does AD do it? AD takes an input function and breaks it down into a set of elementary functions. It uses symbolic differentiation of the elementary functions to calculate their derivatives at specific values. These elementary functions are then combined using common mathematical functions, such as addition or multiplication. The derivatives of the combined functions (which we will refer to as nodes) can be found using the chain rule and the derivatives calculated from the earlier elementary functions. This process repeats (as more complex functions are combined) until the function's derivative has been calculated. As an example, if you want to compute the derivative of *sin(tan(xy) + cos(x + y))* you can first compute the derivatives with respect to the inputs *x,y* of *tan(xy)* and *cos(x + y)*, add those together, and then get the derivative of the entire function using the chain rule. \n",
    "\n",
    "There are two common methods for implementing AD, forward mode and backward mode (of which the popular backpropagation algorithm for neural networks is a special case). Given a function &#8477;<sup>n</sup> &#8594; &#8477;<sup>m</sup>, forward mode fixes the independent variables or n inputs to solve for m outputs; whereas backward mode fixes the dependent variables or m outputs. This means that forward mode is more efficient when m>>n and backward mode is more efficient when n>>m.\n",
    "\n",
    "The AD process can be represented using a computational trace or a computation graph. The computational trace is a table that stores the elementary and intermediary functions, their derivatives, and the derivative values evaluated at an input (if provided). This process can also be visually representated using a computational graph whose nodes are the same as the rows in the computational trace. Nodes are connect to show how nodes are combined and by what elementary operations. "
   ]
  },
  {
   "cell_type": "markdown",
   "metadata": {},
   "source": [
    "## How to Use funkyAD\n",
    "\n",
    "The software funkyAD is a software package that the user will interact with using the AD class. This AD class allows the user to differentiate a specified function by wrapping it into an AD object, automatically differentiate it, and access the results. The package is intended for use by developers on personal computers, as a building block on top of which other functionality may be developed. We recommend users download the package using PyPi. A minimal installation in a fresh virtual environment might proceed as follows:\n",
    "\n",
    "    conda create -n funky python=3.6\n",
    "    source activate funky\n",
    "\n",
    "Then, to install funkyAD with PyPi use the following command:\n",
    "\n",
    "\tpip install -i https://test.pypi.org/simple/ funkyAD-funkyADers\n",
    "\n",
    "    \n",
    "You are now ready to use the package! Please see examples below.\n",
    "\n",
    "#### Importing funkyAD after installation"
   ]
  },
  {
   "cell_type": "code",
   "execution_count": 2,
   "metadata": {
    "ExecuteTime": {
     "end_time": "2019-11-19T17:19:53.158145Z",
     "start_time": "2019-11-19T17:19:53.150157Z"
    }
   },
   "outputs": [],
   "source": [
    "# After installing the package, import base from funkyAD\n",
    "from funkyAD.base import AD, grad, Node"
   ]
  },
  {
   "cell_type": "markdown",
   "metadata": {},
   "source": [
    "#### Basic examples of funkyAD\n",
    "\n",
    "funkyAD supports both scalar and vector functions. "
   ]
  },
  {
   "cell_type": "code",
   "execution_count": 12,
   "metadata": {
    "ExecuteTime": {
     "end_time": "2019-11-19T17:24:37.622315Z",
     "start_time": "2019-11-19T17:24:37.615862Z"
    }
   },
   "outputs": [
    {
     "name": "stdout",
     "output_type": "stream",
     "text": [
      "[[12.]]\n",
      "[[27.]]\n"
     ]
    }
   ],
   "source": [
    "# show basic functionality of funkyAD\n",
    "def f1(x):\n",
    "    return x ** 3\n",
    "\n",
    "ad_object = AD(f1)\n",
    "print(ad_object.grad(2))\n",
    "print(ad_object.grad(3))"
   ]
  },
  {
   "cell_type": "code",
   "execution_count": 13,
   "metadata": {
    "ExecuteTime": {
     "end_time": "2019-11-19T17:24:40.792296Z",
     "start_time": "2019-11-19T17:24:40.786224Z"
    }
   },
   "outputs": [
    {
     "name": "stdout",
     "output_type": "stream",
     "text": [
      "[[1. 1.]]\n"
     ]
    }
   ],
   "source": [
    "def f2(x, y):\n",
    "    return x + y\n",
    "\n",
    "print(AD(f2).grad(3, 5))"
   ]
  },
  {
   "cell_type": "code",
   "execution_count": 10,
   "metadata": {
    "ExecuteTime": {
     "end_time": "2019-11-19T17:23:19.153292Z",
     "start_time": "2019-11-19T17:23:19.138711Z"
    }
   },
   "outputs": [
    {
     "name": "stdout",
     "output_type": "stream",
     "text": [
      "[[1. 1. 1.]]\n",
      "[[1. 1. 1. 1. 1.]]\n"
     ]
    }
   ],
   "source": [
    "# Package supports variable number of inputs/outputs \n",
    "import numpy as np\n",
    "def f3(a: np.array):\n",
    "    return a.sum()\n",
    "print(AD(f3).grad(np.array([3, 5, 7])))\n",
    "print(AD(f3).grad(np.array([3, 5, 7, 9, 11])))"
   ]
  },
  {
   "cell_type": "code",
   "execution_count": 11,
   "metadata": {
    "ExecuteTime": {
     "end_time": "2019-11-19T17:23:19.301913Z",
     "start_time": "2019-11-19T17:23:19.291946Z"
    }
   },
   "outputs": [
    {
     "name": "stdout",
     "output_type": "stream",
     "text": [
      "[[ 8.]\n",
      " [-1.]\n",
      " [ 5.]]\n"
     ]
    }
   ],
   "source": [
    "# Package supports multiple outputs\n",
    "def f4(x):\n",
    "    return x ** 2, -x, 5 * x\n",
    "    # equivalently can also return a np.array() object\n",
    "print(AD(f4).grad(4))"
   ]
  },
  {
   "cell_type": "markdown",
   "metadata": {},
   "source": [
    "#### Alternative ways to access the gradient\n",
    "While funkyAD can be directly called as shown above, we have also created a function so that you can get the gradient directly without going through the AD object, in case this is a more intuitve way to get the gradient. The grad method creates the AD object on the function implicitely. "
   ]
  },
  {
   "cell_type": "code",
   "execution_count": 4,
   "metadata": {},
   "outputs": [
    {
     "name": "stdout",
     "output_type": "stream",
     "text": [
      "[[2.]]\n",
      "[[2.]]\n"
     ]
    }
   ],
   "source": [
    "# One way to get the derivative\n",
    "def f5(x):\n",
    "    return x**2\n",
    "\n",
    "print(AD(f5).grad(1))\n",
    "\n",
    "# Alternative way\n",
    "print(grad(f5)(1))"
   ]
  },
  {
   "cell_type": "markdown",
   "metadata": {},
   "source": [
    "#### Using elementary functions in funkyAD\n",
    "FunkyAD supports many elementary function operations such as addition, subtraction, exponents, and trigonometric functions like cosine, etc. In order to access built in functions that aren't already implicitely overloaded (e.g. addition), you need to import them from the funkyAD functions module. "
   ]
  },
  {
   "cell_type": "code",
   "execution_count": 14,
   "metadata": {
    "ExecuteTime": {
     "end_time": "2019-11-19T17:26:19.527151Z",
     "start_time": "2019-11-19T17:26:19.521157Z"
    },
    "scrolled": true
   },
   "outputs": [
    {
     "name": "stdout",
     "output_type": "stream",
     "text": [
      "[[2.7182817]]\n"
     ]
    }
   ],
   "source": [
    "from funkyAD.functions import exp \n",
    "\n",
    "def f6(x):\n",
    "    return exp(x)\n",
    "\n",
    "print(AD(f6).grad(1))\n"
   ]
  },
  {
   "cell_type": "markdown",
   "metadata": {},
   "source": [
    "#### Adding a user-defined arbitrary function\n",
    "Currently, the package only supports a subset of the possible elementary function that a user might want to use. To extend the library with a new Elementary Function, the user must provide the function and its derivative, and wrap them into a BaseFunction object as follows:"
   ]
  },
  {
   "cell_type": "code",
   "execution_count": 34,
   "metadata": {
    "ExecuteTime": {
     "end_time": "2019-11-19T17:41:45.218087Z",
     "start_time": "2019-11-19T17:41:45.210951Z"
    },
    "scrolled": true
   },
   "outputs": [
    {
     "name": "stdout",
     "output_type": "stream",
     "text": [
      "[[0.04517666]]\n"
     ]
    }
   ],
   "source": [
    "from funkyAD.functions import BaseFunction\n",
    "\n",
    "def sigmoid(x):\n",
    "    # Use x.v for the value of x\n",
    "    return np.exp(x.v) / (1 + np.exp(x.v))\n",
    "\n",
    "def sigmoid_derivative(x):\n",
    "    # Use x.v for the value, x.d for the derivative of the argument (x dot)\n",
    "    return x.d * np.exp(-x.v) / (1 + np.exp(-x.v)) ** 2\n",
    "\n",
    "sig = BaseFunction(sigmoid, sigmoid_derivative)\n",
    "\n",
    "print(grad(sig)(3))"
   ]
  },
  {
   "cell_type": "code",
   "execution_count": 35,
   "metadata": {
    "ExecuteTime": {
     "end_time": "2019-11-19T17:41:45.392441Z",
     "start_time": "2019-11-19T17:41:45.386172Z"
    }
   },
   "outputs": [
    {
     "name": "stdout",
     "output_type": "stream",
     "text": [
      "[[0.07065083 0.        ]\n",
      " [1.         0.19661194]]\n"
     ]
    }
   ],
   "source": [
    "# You can also use sig as a part of a larger function as follows:\n",
    "def f7(x, y):\n",
    "    return sig(x ** 2), x + sig(y)\n",
    "print(grad(f7)(2, 1))"
   ]
  },
  {
   "cell_type": "code",
   "execution_count": 36,
   "metadata": {
    "ExecuteTime": {
     "end_time": "2019-11-19T17:41:45.790455Z",
     "start_time": "2019-11-19T17:41:45.782675Z"
    }
   },
   "outputs": [
    {
     "name": "stdout",
     "output_type": "stream",
     "text": [
      "[[2. 1.]]\n"
     ]
    }
   ],
   "source": [
    "# Multiple input functions are also supported\n",
    "weird_add = BaseFunction(lambda x, y: 2 * x.v + y.v, lambda x, y: 2 * x.d + y.d)\n",
    "print(grad(weird_add)(3, 4))"
   ]
  },
  {
   "cell_type": "markdown",
   "metadata": {},
   "source": [
    "#### Using funky AD for Newton's Method\n",
    "\n",
    "funkyAD can be used for more than just deriving derivatives of simple functions. One use case is for root finding. Newton's Method is a root-finding algorithm that finds roots using an iteration approach: \n",
    "\n",
    "$$x_{n+1} = x_n - \\frac{f(x_n)}{f'(x_n)}$$\n",
    "\n",
    "This algorithm requires calculating the derivative in order to update. funkyAD can be used to find the derivative in this case. Take the function $f(x)=x^2+x$. It has two roots, one at -1 and another at 0. Using Newton's Method we can find both these roots by using different initialization points (e.g. if we always pick a positive initialization point, then the only root it will find is 0). Please see below for the code and results. "
   ]
  },
  {
   "cell_type": "code",
   "execution_count": 37,
   "metadata": {
    "ExecuteTime": {
     "end_time": "2019-11-19T17:43:41.343969Z",
     "start_time": "2019-11-19T17:43:40.967504Z"
    }
   },
   "outputs": [],
   "source": [
    "import numpy as np\n",
    "import matplotlib.pyplot as plt"
   ]
  },
  {
   "cell_type": "code",
   "execution_count": 38,
   "metadata": {
    "ExecuteTime": {
     "end_time": "2019-11-19T17:43:41.355294Z",
     "start_time": "2019-11-19T17:43:41.346665Z"
    }
   },
   "outputs": [],
   "source": [
    "# create newton root method using funkyAD to find the Jacobian of the function\n",
    "def newtonroot(f, x):\n",
    "    fx = f(x)\n",
    "    dfx = AD(f).grad(x) # alternatively this can be written grad(f)(x)\n",
    "    x_next = x - fx/dfx \n",
    "    return x_next \n",
    "\n",
    "def get_root(f,x_start):\n",
    "    delta = 10\n",
    "    path = [x_start]\n",
    "    x = x_start\n",
    "    while delta > 1e-6:\n",
    "        new_x = newtonroot(f,x) \n",
    "        path.append(new_x)\n",
    "        delta = abs(x - new_x)\n",
    "        x = new_x \n",
    "    return(x, path)"
   ]
  },
  {
   "cell_type": "code",
   "execution_count": 41,
   "metadata": {
    "ExecuteTime": {
     "end_time": "2019-11-19T17:43:49.641458Z",
     "start_time": "2019-11-19T17:43:49.632435Z"
    }
   },
   "outputs": [
    {
     "name": "stdout",
     "output_type": "stream",
     "text": [
      "[[0.]] [[-1.]]\n"
     ]
    }
   ],
   "source": [
    "# root method for scalar function (e.g. y = f(x))\n",
    "def f(x):\n",
    "    return x**2+x \n",
    "\n",
    "# try one initialization\n",
    "zero1, path1 = get_root(f, 1)\n",
    "\n",
    "# try a different initialization \n",
    "zero2, path2  = get_root(f, -2)\n",
    "print(zero1, zero2)"
   ]
  },
  {
   "cell_type": "code",
   "execution_count": 40,
   "metadata": {
    "ExecuteTime": {
     "end_time": "2019-11-19T17:43:42.373005Z",
     "start_time": "2019-11-19T17:43:42.125775Z"
    }
   },
   "outputs": [
    {
     "data": {
      "image/png": "[encoded data removed]",
      "text/plain": [
       "<Figure size 432x288 with 1 Axes>"
      ]
     },
     "metadata": {
      "needs_background": "light"
     },
     "output_type": "display_data"
    }
   ],
   "source": [
    "xs = np.linspace(-2.5, 1.5, 100)\n",
    "path1_ys = [f(x) for x in path1]\n",
    "path2_ys = [f(x) for x in path2]\n",
    "\n",
    "\n",
    "plt.plot(xs, f(xs))\n",
    "plt.axhline(y=0, color='r', linestyle='-')\n",
    "plt.scatter(path1, path1_ys)\n",
    "plt.scatter(path2, path2_ys)\n",
    "plt.title('Root finding for x^2 + x')\n",
    "plt.show()"
   ]
  },
  {
   "cell_type": "markdown",
   "metadata": {},
   "source": [
    "## Software Organization\n",
    "\n",
    "#### Directory Structure: \n",
    "```\n",
    ".\n",
    "| README.md\n",
    "| LICSENSE\n",
    "| requirements.txt \n",
    "| setup.py\n",
    "| .travis.yml\n",
    "| .gitignore \n",
    "| \n",
    "|--docs\n",
    "|  | milestone1.md\n",
    "|  | milestone2.ipynb\n",
    "|  |-examples\n",
    "|  | |- AD_users_intro.ipynb \n",
    "|  | |- example1.py\n",
    "|\n",
    "|--src/funkyAD\n",
    "|  | __init__.py \n",
    "|  | base.py\n",
    "|  | functions.py \n",
    "|  | helpers.py\n",
    "|\n",
    "|--tests\n",
    "|  | test_base.py\n",
    "|  | test_functions.py\n",
    "|  | test_helpers.py\n",
    "```\n",
    "\n",
    "#### Modules (functionality)\n",
    "\n",
    "The funkyAD package stored within the \\src directory contains 3 modules: base.py, functions.py, and helpers.py. \n",
    "\n",
    "The **base module** defines the AD class and the Node class. The AD class takes a function as an input and initiates forward differentiation to find the gradient of the function at a given value. The input functions is broken down into nodes (defined by the Node class) which store the value and derivative for each input and combined nodes. \n",
    "\n",
    "The **functions module** defines the values and derivatives of elementary functions (e.g. sin, exponents, addition, and multiplication). Since we are working with Node objects, they are all compatable with nodes. \n",
    "\n",
    "The **helpers module** includes helper functions such as figuring out the number of inputs in a function and turning all inputs into nodes. \n",
    "\n",
    "#### Test suite\n",
    "we use TravisCI, CodeCov, doctests and unittests for testing. Our test suite lives in the /tests folder at the project root. We have three testing programs (test_base.py, test_functions.py, test_helpers.py) for each module. They check for basic functionality of classes and functions, test that exceptions are handled properly, and verify that our functions work in various edge cases and with different input arrays. \n",
    "\n",
    "For testing, we follow the packainging advise outlined at http://doc.pytest.org/en/latest/goodpractices.html. We use a virtual environment and pip for installing funkyAD and any dependencies. The virtual environment ensures that we are testing the package as if we were any user, independent of whatever local Python version or packages we already have downloaded. By running tests on the local package, it also ensures we aren't running the tests on earlier installed vesions. To run the tests on a packaged version of the source code the following commands are required at the root of the repository: \n",
    "\n",
    "\tpip install -r requirements.txt\n",
    "    pip install -e . \n",
    "\n",
    "The first line installs any requirements. The second line installs an editable version of the package so that the package updates if you make changes to tests or source code. Because of this set-up we need to explicitely tell Travis which package to run tests on. This infomation is stored in the setup.py file. \n",
    "\n",
    "#### Software Packaging & Distribution \n",
    "\n",
    "\n",
    "The funkyAD package will be distributed with PyPI. Consequently, users will be able to install the package using the ubiquitous pip package manager. It will follow the guidelines and instructions in the official Python documentation. \n",
    "\n",
    "\tpip install -r requirements.txt\n",
    "\tpip install -i https://test.pypi.org/simple/ funkyAD-funkyADers==0.0.4\n",
    "    \n",
    "We recommend using a virtual environment, which can be started with the following command before downloading the package: \n",
    "\n",
    "\tconda create -n env_name python=3.6 anaconda\n",
    "\tsource activate env_name\n"
   ]
  },
  {
   "cell_type": "markdown",
   "metadata": {},
   "source": [
    "## Implementation\n",
    "\n",
    "funkyAD has three modules (base.py, functions.py, and helpers.py), which we will describe in more detail here.\n",
    "\n",
    "##### base.py \n",
    "\n",
    "*AD Class* - The AD class takes a function as input and has four parameters for storing the function (self.f), the seed (self.seed), the input dimension (self.n), and the output dimension (self.m). The input function is initialized automatically but the remaining parameters are not filled in until the user calls AD's grad function, which calls AD's private function \\_evaluate to find the derivative of the function at the values specified in the grad function (e.g. AD(f).grad(2) finds the gradient of function f at 2). \\_evaluate first determines the number of inputs and outputs (self.n and self.m, respectively) in the given function. We handle non-scalar functions by storing everything in ndarrays. After determining the dimension of the inputs and outputs,\\_evaluate sets the seed if the user hasn't done that already, checking to make sure the seed is of the right dimension and input type. Then, \\_evaluate calls the helper function nodify to convert all values to Nodes (described below), which are returned to the grad function and the derivatives returned to the user as an ndarray using the helper function \\_unpack. \n",
    "\n",
    "*Node Class* - The Node class defines a node, which has two parameters: a value and a derivative. Nodes are connected and can be added or multiplied together to form new nodes, via the dunder methods\\_\\_add\\_\\_ etc. These dunder methods are overloaded with elementary functions defined in the functions.py file. We check to make sure all values and derivatives are numeric, i.e. it does not support strings. \n",
    "\n",
    "*Grad function* -  As syntatic sugar, we also define a function grad which calls the AD class implicitely to return the gradient.  \n",
    "\n",
    "##### functions.py \n",
    "The ElementaryFunction Class defines the functions and derivatives of elementary functions passed in by the user, such as sin, log, etc. The user can use these functions in function defintions by importing them like so: \n",
    "\n",
    "    from funkyAD.functions import exp \n",
    "\n",
    "funkyAD currently supports the following elementary functions: addition, multiplication, division, power, pos, neg, abs, invert, round, floor, ceil, trun, floordiv, exp, sin, cos, tan.\n",
    "\n",
    "We also allow the user to add their own elementary function to the list if we do not include the elementary function they need in the initial library list. An appropriate exception is raised if the user tries to utilize a function that is not defined as an instance of the ElementaryFunction class.\n",
    "\n",
    "##### helpers.py \n",
    "\n",
    "Helpers defines 3 important functions (count_recursive, unpack, and nodify), which are called by the AD class to run forward mode. \n",
    "\n",
    "*count_recursive* takes args as input and counts the number of arguments. It is used to determine the number of inputs in a given function. \n",
    "\n",
    "*unpack* takes nested arrays or lists and creates a depth 1 list. This is useful for iterating  through outputs to return the derivative stored at each output node. \n",
    "\n",
    "*nodify* turns all inputs into nodes, storing both the value and derivative. To do this, it first checks whether each item in the args list is a ndarray, list, or other object. Depending on the type of object, it recursively sets each element in the ndarray, list, or other object as a Node with a value and a derivative and appends this to a list using the augment function defined within nodify. \n",
    "\n",
    "\n",
    "#### External dependencies\n",
    "\n",
    "Our software package relies on numpy, which is specified in the \"requirements.txt\" file in the root directory. The testing suite reiles on pytest, pytest-cov, and codecov. Testing dependencies are specified in the \".travis.yml\" file also in the root directory."
   ]
  },
  {
   "cell_type": "markdown",
   "metadata": {},
   "source": [
    "## Future Features\n",
    "\n",
    "We plan to implement reverse mode for our new feature. To showcase the benefits of forward mode in some scenarios and backward mode in others, we will create a demonstration showcasing situations when one method dominates the other in terms of efficiency. For each situation, we will time how long it takes each method to differentiate the function. This will help users understand situations in which a specific mode (forward vs reverse) might be more appropriate. \n",
    "\n",
    "Implementing reverse mode requires storing the evaluation trace so that we can access the partial derivatives. The evaluation trace will be stored as a parameter in the AD class defined in the base.py module. For forward mode, we evaluate the derivative using the \\_evaluate function. We plan to continue using this function as the work horse for performing and distributing the tasks necessary to calculate the derivative (e.g. determining the number of inputs and outputs in the function), but it will now call separate helper functions depending on whether we're performing forward versus reverse mode. These helper functions will be stored in the helpers.py module.  Additionally, we plan to write a new function in the AD class to print the evaluation trace table. In addition to these software updates, we also plan to include new examples in the \\docs folder, which will include our demonstration of forward versus reverse mode efficiency."
   ]
  },
  {
   "cell_type": "markdown",
   "metadata": {},
   "source": [
    "## Manteinance of existing code\n",
    "\n",
    "* Add more BaseFunctions to cover everything built into NumPy (at least)\n",
    "* More intuitive interface for users to add BaseFunctions\n",
    "* Possibility to store and display evaluation trace for faster repeated calls (caching)\n",
    "* More tests to reach 100% code coverage and ensure reliability"
   ]
  }
 ],
 "metadata": {
  "kernelspec": {
   "display_name": "Python 3",
   "language": "python",
   "name": "python3"
  },
  "language_info": {
   "codemirror_mode": {
    "name": "ipython",
    "version": 3
   },
   "file_extension": ".py",
   "mimetype": "text/x-python",
   "name": "python",
   "nbconvert_exporter": "python",
   "pygments_lexer": "ipython3",
   "version": "3.7.0"
  },
  "toc": {
   "base_numbering": 1,
   "nav_menu": {},
   "number_sections": true,
   "sideBar": true,
   "skip_h1_title": false,
   "title_cell": "Table of Contents",
   "title_sidebar": "Contents",
   "toc_cell": false,
   "toc_position": {},
   "toc_section_display": true,
   "toc_window_display": false
  }
 },
 "nbformat": 4,
 "nbformat_minor": 2
}
