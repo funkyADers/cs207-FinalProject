{
 "cells": [
  {
   "cell_type": "markdown",
   "metadata": {},
   "source": [
    "# Milestone 2\n",
    "\n",
    "## Introduction\n",
    "Differentiation is used in many applications, such as finding stationary points of defined functions or minimizing objective loss functions in machine learning applications. \n",
    "But differentiating an arbitrary function &#8477;<sup>n</sup> &#8594; &#8477;<sup>m</sup> is generally not an easy task. \n",
    "When the function can be expressed as a composition of differentiable elementary functions (which in most cases is true), Automatic Differentiation (AD) can help. \n",
    "AD has become one of the most popular techniques for finding derivatives and is often preferred over symbolic differentation and numerical differentiation because of its efficiency and stability."
   ]
  },
  {
   "cell_type": "markdown",
   "metadata": {},
   "source": [
    " \n",
    "## Background\n",
    "\n",
    "How does AD do it? AD takes an input function and breaks it down into a set of elementary functions. It uses symbolic differentiation of the elementary functions to calculate their derivatives at specific values. These elementary functions are then combined using common mathematical functions, such as addition or multiplication. The derivatives of the combined functions (which we will refer to as nodes) can be found using the chain rule and the derivatives calculated from the earlier elementary functions. This process repeats (as more complex functions are combined) until the function's derivative has been calculated. As an example, if you want to compute the derivative of *sin(tan(xy) + cos(x + y))* you can first compute the derivatives with respect to the inputs *x,y* of *tan(xy)* and *cos(x + y)*, add those together, and then get the derivative of the entire function using the chain rule. \n",
    "\n",
    "There are two common methods for implementing AD, forward mode and backward mode (of which the popular backpropagation algorithm for neural networks is a special case). Given a function &#8477;<sup>n</sup> &#8594; &#8477;<sup>m</sup>, forward mode fixes the independent variables or n inputs to solve for m outputs; whereas backward mode fixes the dependent variables or m outputs. This means that forward mode is more efficient when m>>n and backward mode is more efficient when n>>m. We see backward mode used more often in \"big data\" problems where there are often far more features than data. \n",
    "\n",
    "The AD process can be represented using a computational trace or a computation graph. The computational trace is a table that stores the elementary and intermediary functions, their derivatives, and the derivative values evaluated at an input (if provided). This process can also be visually representated using a computational graph whose nodes are the same as the rows in the computational trace. Nodes are connect to show how nodes are combined and by what elementary operations. "
   ]
  },
  {
   "cell_type": "markdown",
   "metadata": {},
   "source": [
    "## How to Use funkyAD\n",
    "\n",
    "The software funkyAD is a software package that the user will interact with using the AD class. This AD class allows the user to differentiate a specified function by wrapping it into an AD object, automatically differentiate it, and access the results. The package is intended for use by developers on personal computers, as a building block on top of which other functionality may be developed. The package can be downloaded from PyPi using pip. Details on downloading the package can be found in the Software Packaging and Distribution section of this document. \n",
    "\n",
    "\n",
    "#### Importing funkyAD after installation"
   ]
  },
  {
   "cell_type": "code",
   "execution_count": 1,
   "metadata": {},
   "outputs": [],
   "source": [
    "# After installing the package, import base from funkyAD\n",
    "from funkyAD.base import AD, grad, Node"
   ]
  },
  {
   "cell_type": "markdown",
   "metadata": {},
   "source": [
    "#### Basic examples of funkyAD\n",
    "\n",
    "funkyAD supports both scalar and non-scalar functions. "
   ]
  },
  {
   "cell_type": "code",
   "execution_count": 2,
   "metadata": {},
   "outputs": [
    {
     "name": "stdout",
     "output_type": "stream",
     "text": [
      "[[12.]]\n",
      "[[27.]]\n"
     ]
    }
   ],
   "source": [
    "# show basic functionality of funkyAD\n",
    "def f(x):\n",
    "    return x**3\n",
    "\n",
    "print(AD(f).grad(2))\n",
    "print(AD(f).grad(3))"
   ]
  },
  {
   "cell_type": "code",
   "execution_count": 3,
   "metadata": {},
   "outputs": [
    {
     "name": "stdout",
     "output_type": "stream",
     "text": [
      "[[1. 1.]]\n"
     ]
    }
   ],
   "source": [
    "def f(x,y):\n",
    "    return x+y\n",
    "\n",
    "print(AD(f).grad(3,5))"
   ]
  },
  {
   "cell_type": "markdown",
   "metadata": {},
   "source": [
    "#### Alternative ways to access the gradient\n",
    "While funkyAD can be directly called as shown above, we have also created a function so that you can get the gradient directly without going through the AD object, in case this is a more intuitve way to get the gradient. The grad method creates the AD object on the function implicitely. "
   ]
  },
  {
   "cell_type": "code",
   "execution_count": 4,
   "metadata": {},
   "outputs": [
    {
     "name": "stdout",
     "output_type": "stream",
     "text": [
      "[[2.]]\n",
      "[[2.]]\n"
     ]
    }
   ],
   "source": [
    "# One way to get the derivative\n",
    "def f(x):\n",
    "    return x**2\n",
    "\n",
    "print(AD(f).grad(1))\n",
    "\n",
    "# Alternative way\n",
    "print(grad(f)(1))"
   ]
  },
  {
   "cell_type": "markdown",
   "metadata": {},
   "source": [
    "#### Using elementary functions in funkyAD\n",
    "FunkyAD supports many elementary function operations such as addition, subtraction, exponents, and trigonometric functions like cosine, etc. In order to access built in functions that aren't already implicitely overloaded (e.g. addition), you need to import them from the funkyAD functions module. "
   ]
  },
  {
   "cell_type": "code",
   "execution_count": 5,
   "metadata": {},
   "outputs": [
    {
     "name": "stdout",
     "output_type": "stream",
     "text": [
      "[[2.71828183]]\n"
     ]
    }
   ],
   "source": [
    "from funkyAD.functions import exp \n",
    "\n",
    "def f(x):\n",
    "    return exp(x)\n",
    "\n",
    "print(AD(f).grad(1))\n"
   ]
  },
  {
   "cell_type": "markdown",
   "metadata": {},
   "source": [
    "#### Using funky AD for Newton's Method\n",
    "\n",
    "funkyAD can be used for more than just deriving derivatives of simple functions. One use case is for root finding. Newton's Method is a root-finding algorithm that finds roots using an iteration approach: \n",
    "\n",
    "$$x_{n+1} = x_n - \\frac{f(x_n)}{f'(x_n)}$$\n",
    "\n",
    "This algorithm requires calculating the derivative in order to update. funkyAD can be used to find the derivative in this case. Take the function $f(x)=x^2+x$. It has two roots, one at -1 and another at 0. Using Newton's Method we can find both these roots by using different initialization points (e.g. if we always pick a positive initialization point, then the only root it will find is 0). Please see below for the code and results. "
   ]
  },
  {
   "cell_type": "code",
   "execution_count": 6,
   "metadata": {},
   "outputs": [],
   "source": [
    "import numpy as np\n",
    "import matplotlib.pyplot as plt"
   ]
  },
  {
   "cell_type": "code",
   "execution_count": 7,
   "metadata": {},
   "outputs": [],
   "source": [
    "# create newton root method using funkyAD to find the Jacobian of the function\n",
    "def newtonroot(f, x):\n",
    "    fx = f(x)\n",
    "    dfx = AD(f).grad(x) # alternative this can be written grad(f)(x)\n",
    "    x_next = x - fx/dfx \n",
    "    return x_next \n",
    "\n",
    "def get_root(f,x_start):\n",
    "    delta = 10\n",
    "    path = [x_start]\n",
    "    x = x_start\n",
    "    while delta > 1e-6:\n",
    "        new_x = newtonroot(f,x) \n",
    "        path.append(new_x)\n",
    "        delta = abs(x - new_x)\n",
    "        x = new_x \n",
    "    return(x, path)"
   ]
  },
  {
   "cell_type": "code",
   "execution_count": 8,
   "metadata": {},
   "outputs": [],
   "source": [
    "# root method for scalar function (e.g. y = f(x))\n",
    "def f(x):\n",
    "    return x**2+x \n",
    "\n",
    "# try one initialization\n",
    "zero1, path1 = get_root(f, 1)\n",
    "\n",
    "# try a different initialization \n",
    "zero2, path2  = get_root(f, -2)"
   ]
  },
  {
   "cell_type": "code",
   "execution_count": 11,
   "metadata": {},
   "outputs": [
    {
     "data": {
      "image/png": "[encoded data removed]",
      "text/plain": [
       "<Figure size 432x288 with 1 Axes>"
      ]
     },
     "metadata": {
      "needs_background": "light"
     },
     "output_type": "display_data"
    }
   ],
   "source": [
    "xs = np.linspace(-2.5, 1.5, 100)\n",
    "path1_ys = [f(x) for x in path1]\n",
    "path2_ys = [f(x) for x in path2]\n",
    "\n",
    "\n",
    "plt.plot(xs, f(xs))\n",
    "plt.axhline(y=0, color='r', linestyle='-')\n",
    "plt.scatter(path1, path1_ys)\n",
    "plt.scatter(path2, path2_ys)\n",
    "plt.title('Root finding for x^2 + x')\n",
    "plt.show()"
   ]
  },
  {
   "cell_type": "markdown",
   "metadata": {},
   "source": [
    "## Software Organization\n",
    "\n",
    "#### Directory Structure: \n",
    "```\n",
    ".\n",
    "| README.md\n",
    "| LICSENSE\n",
    "| requirements.txt \n",
    "| setup.py\n",
    "| .travis.yml\n",
    "| .gitignore \n",
    "| \n",
    "|--docs\n",
    "|  | milestone1.md\n",
    "|  | milestone2.ipynb\n",
    "|  |-examples\n",
    "|  | |- AD_users_intro.ipynb \n",
    "|\n",
    "|--src/funkyAD\n",
    "|  | __init__.py \n",
    "|  | base.py\n",
    "|  | functions.py \n",
    "|  | helpers.py\n",
    "|  |-tests\n",
    "|\n",
    "|--tests\n",
    "|  | test_base.py\n",
    "|  | test_functions.py\n",
    "|  | test_helpers.py\n",
    "```\n",
    "\n",
    "#### Modules (functionality)\n",
    "\n",
    "The funkyAD package stored within the \\src directory contains 3 modules: base.py, functions.py, and helpers.py. \n",
    "\n",
    "The **base module** defines the AD class and the Node class. The AD class takes a function as an input and initiates forward differentiation to find the gradient of the function at a given value. The input functions is broken down into nodes (defined by the Node class) which store the value and derivative for each input and combined nodes. \n",
    "\n",
    "The **functions module** defines the values and derivatives of elementary functions (e.g. sin, exponents, addition, and multiplication). Since we are working with Node objects, they are all compatable with nodes. \n",
    "\n",
    "The **helpers module** includes helper functions such as figuring out the number of inputs in a function and turning all inputs into nodes. \n",
    "\n",
    "#### Test suite\n",
    "we use TravisCI, CodeCov, doctests and unittests for testing. Our test suite lives in the /tests folder at the project root. We have three testing programs (test_base.py, test_functions.py, test_helpers.py) for each module. They check for basic functionality of classes and functions, test that exceptions are handled properly, and verify that our functions work in various edge cases and with different input arrays. \n",
    "\n",
    "For testing, we follow the packainging advise outlined at http://doc.pytest.org/en/latest/goodpractices.html. We use a virtual environment and pip for installing funkyAD and any dependencies. The virtual environment ensures that we are testing the package as if we were any user, independent of whatever local Python version or packages we already have downloaded. By running tests on the local package, it also ensures we aren't running the tests on earlier installed vesions. To run the tests on a packaged version of the source code the following commands are required at the root of the repository: \n",
    "\n",
    "\tpip install -r requirements.txt\n",
    "    pip install -e . \n",
    "\n",
    "The first line installs any requirements. The second line installs an editable version of the package so that the package updates if you make changes to tests or source code. Because of this set-up we need to explicitely tell Travis which package to run tests on. This infomation is stored in the setup.py file. \n",
    "\n",
    "#### Software Packaging & Distribution \n",
    "\n",
    "**[ NEED MORE DETAIL ]**\n",
    "\n",
    "The funkyAD package will be distributed with PyPI. Consequently, users will be able to install the package using the ubiquitous pip package manager. It will follow the guidelines and instructions in the official Python documentation. \n",
    "\n",
    "\tpip install -r requirements.txt\n",
    "\tpip install -i https://test.pypi.org/simple/ funkyAD-funkyADers==0.0.4\n",
    "    \n",
    "We recommend using a virtual environment, which can be started with the following command before downloading the package: \n",
    "\n",
    "\tconda create -n env_name python=3.6 anaconda\n",
    "\tsource activate env_name\n"
   ]
  },
  {
   "cell_type": "markdown",
   "metadata": {},
   "source": [
    "## Implementation\n",
    "\n",
    "funkyAD has three modules (base.py, functions.py, and helpers.py), which we will describe in more detail here.\n",
    "\n",
    "##### base.py \n",
    "\n",
    "*AD Class* - The AD class takes a function as input and has four parameters for storing the function (self.f), the seed (self.seed), the input dimension (self.n), and the output dimension (self.m). The input function is initialized automatically but the remaining parameters are not filled in until the user calls AD's grad function, which calls AD's private function \\_evaluate to find the derivative of the function at the values specified in the grad function (e.g. AD(f).grad(2) finds the gradient of function f at 2). \\_evaluate first determines the number of inputs and outputs (self.n and self.m, respectively) in the given function. We handle non-scalar functions by storing everything in ndarrays. After determining the dimension of the inputs and outputs,\\_evaluate sets the seed if the user hasn't done that already, checking to make sure the seed is of the right dimension and input type. Then, \\_evaluate calls the helper function nodify to convert all values to Nodes (described below), which are returned to the grad function and the derivatives returned to the user as an ndarray using the helper function \\_unpack. \n",
    "\n",
    "*Node Class* - The Node class defines a node, which has two parameters: a value and a derivative. Nodes are connected and can be added or multiplied together to form new nodes, via the dunder methods\\_\\_add\\_\\_ etc. These dunder methods are overloaded with elementary functions defined in the functions.py file. We check to make sure all values and derivatives are numeric, i.e. it does not support strings. \n",
    "\n",
    "*Grad function* -  As syntatic sugar, we also define a function grad which calls the AD class implicitely to return the gradient.  \n",
    "\n",
    "##### functions.py \n",
    "The ElementaryFunction Class defines the functions and derivatives of elementary functions passed in by the user, such as sin, log, etc. The user can use these functions in function defintions by importing them like so: \n",
    "\n",
    "    from funkyAD.functions import exp \n",
    "\n",
    "funkyAD currently supports the following elementary functions: addition, multiplication, division, power, pos, neg, abs, invert, round, floor, ceil, trun, floordiv, exp, sin, cos, tan.\n",
    "\n",
    "**[ ARE WE IMPELMENTING THIS RIGHT NOW ]**\n",
    "\n",
    "We also allow the user to add their own elementary function to the list if we do not include the elementary function they need in the initial library list. An appropriate exception is raised if the user tries to utilize a function that is not defined as an instance of the ElementaryFunction class.\n",
    "\n",
    "##### helpers.py \n",
    "\n",
    "Helpers defines 3 important functions (count_recursive, unpack, and nodify), which are called by the AD class to run forward mode. \n",
    "\n",
    "*count_recursive* takes args as input and counts the number of arguments. It is used to determine the number of inputs in a given function. \n",
    "\n",
    "*unpack* takes nested arrays or lists and creates a depth 1 list. This is useful for iterating  through outputs to return the derivative stored at each output node. \n",
    "\n",
    "*nodify* turns all inputs into nodes, storing both the value and derivative. To do this, it first checks whether each item in the args list is a ndarray, list, or other object. Depending on the type of object, it recursively sets each element in the ndarray, list, or other object as a Node with a value and a derivative and appends this to a list using the augment function defined within nodify. \n",
    "\n",
    "\n",
    "#### External dependencies\n",
    "\n",
    "Our software package relies on numpy, which is specified in the \"requirements.txt\" file in the root directory. The testing suite reiles on pytest, pytest-cov, and codecov. Testing dependencies are specified \".travis.yml\" file also in the root directory."
   ]
  },
  {
   "cell_type": "markdown",
   "metadata": {},
   "source": [
    "## Future Features\n",
    "\n",
    "**[ TO DO ]**"
   ]
  }
 ],
 "metadata": {
  "kernelspec": {
   "display_name": "Python 3",
   "language": "python",
   "name": "python3"
  },
  "language_info": {
   "codemirror_mode": {
    "name": "ipython",
    "version": 3
   },
   "file_extension": ".py",
   "mimetype": "text/x-python",
   "name": "python",
   "nbconvert_exporter": "python",
   "pygments_lexer": "ipython3",
   "version": "3.7.0"
  }
 },
 "nbformat": 4,
 "nbformat_minor": 2
}
